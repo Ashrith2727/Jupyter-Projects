{
 "cells": [
  {
   "cell_type": "code",
   "execution_count": 44,
   "id": "818dd0c5-d747-489a-9948-138f854bc75a",
   "metadata": {},
   "outputs": [
    {
     "name": "stdout",
     "output_type": "stream",
     "text": [
      "1\n"
     ]
    }
   ],
   "source": [
    "from numpy import random\n",
    "x = random.randint(10)\n",
    "print(x)"
   ]
  },
  {
   "cell_type": "code",
   "execution_count": 54,
   "id": "4999d0e2-1afa-4a4f-b1f5-0e4282f4124e",
   "metadata": {},
   "outputs": [
    {
     "data": {
      "text/plain": [
       "array([15, 32, 70, 84, 94])"
      ]
     },
     "execution_count": 54,
     "metadata": {},
     "output_type": "execute_result"
    }
   ],
   "source": [
    "from numpy import random as rd\n",
    "x=rd.randint(100, size=(5)) # 1-D array\n",
    "x"
   ]
  },
  {
   "cell_type": "code",
   "execution_count": 37,
   "id": "88793cb1-a883-4419-9003-523f5cb713ff",
   "metadata": {},
   "outputs": [
    {
     "name": "stdout",
     "output_type": "stream",
     "text": [
      "[0.15815442 0.39694276 0.51183012 0.25099505 0.59417306]\n"
     ]
    }
   ],
   "source": [
    "from numpy import random\n",
    "x = random.rand(5)\n",
    "print(x)"
   ]
  },
  {
   "cell_type": "code",
   "execution_count": 38,
   "id": "9edc5584-3bb8-4294-b540-2ebab3c15e61",
   "metadata": {},
   "outputs": [
    {
     "name": "stdout",
     "output_type": "stream",
     "text": [
      "[[0.14837298 0.53911391 0.51907709 0.35972823 0.90613968]\n",
      " [0.09892084 0.61147529 0.62197972 0.78755742 0.03227873]\n",
      " [0.35443351 0.94141487 0.94865445 0.08263825 0.65186606]]\n"
     ]
    }
   ],
   "source": [
    "from numpy import random\n",
    "x = random.rand(3,5)\n",
    "print(x)"
   ]
  },
  {
   "cell_type": "code",
   "execution_count": 43,
   "id": "c96e07cd-3330-4d2c-8e20-28a1dabc1ce3",
   "metadata": {},
   "outputs": [
    {
     "name": "stdout",
     "output_type": "stream",
     "text": [
      "7\n"
     ]
    }
   ],
   "source": [
    "from numpy import random\n",
    "x = random.choice([1, 3, 5, 7, 9])\n",
    "print(x)"
   ]
  },
  {
   "cell_type": "code",
   "execution_count": 53,
   "id": "a9f6afad-6d4d-4959-9ea5-a05fd40ebaa8",
   "metadata": {},
   "outputs": [
    {
     "name": "stdout",
     "output_type": "stream",
     "text": [
      "[[1 9]\n",
      " [1 9]]\n"
     ]
    }
   ],
   "source": [
    "from numpy import random\n",
    "x = random.choice([1, 3, 5, 7, 9], size=(2,2))\n",
    "print(x)"
   ]
  }
 ],
 "metadata": {
  "kernelspec": {
   "display_name": "Python 3 (ipykernel)",
   "language": "python",
   "name": "python3"
  },
  "language_info": {
   "codemirror_mode": {
    "name": "ipython",
    "version": 3
   },
   "file_extension": ".py",
   "mimetype": "text/x-python",
   "name": "python",
   "nbconvert_exporter": "python",
   "pygments_lexer": "ipython3",
   "version": "3.11.5"
  }
 },
 "nbformat": 4,
 "nbformat_minor": 5
}
