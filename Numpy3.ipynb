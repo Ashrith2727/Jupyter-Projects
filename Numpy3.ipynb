{
 "cells": [
  {
   "cell_type": "code",
   "execution_count": 3,
   "id": "608e59ad-c1f3-43b7-8cd2-7e53f6766556",
   "metadata": {},
   "outputs": [
    {
     "name": "stdout",
     "output_type": "stream",
     "text": [
      "[5 5 7 3 3 5 7 5 7 3 5 7 7 7 5 7 5 7 7 5 7 5 3 7 5 5 7 7 3 7 7 5 7 5 7 7 3\n",
      " 5 7 3 7 7 7 7 7 7 7 7 3 7 7 7 5 7 3 7 7 7 3 7 3 5 3 5 7 5 3 5 7 5 3 7 5 3\n",
      " 7 7 5 7 3 3 7 3 5 3 7 7 3 7 7 3 7 5 7 7 5 7 5 3 7 7]\n"
     ]
    }
   ],
   "source": [
    "from numpy import random\n",
    "x = random.choice([3, 5, 7, 9], p=[0.2, 0.3, 0.5, 0.0], size=(100))\n",
    "print(x)"
   ]
  },
  {
   "cell_type": "code",
   "execution_count": 3,
   "id": "bab67be6-b5a4-4148-8751-f16d0291e04f",
   "metadata": {},
   "outputs": [
    {
     "name": "stdout",
     "output_type": "stream",
     "text": [
      "[3 1 2 5 4]\n"
     ]
    }
   ],
   "source": [
    "from numpy import random as rd\n",
    "import numpy as np\n",
    "\n",
    "arr = np.array([1, 2, 3, 4, 5])\n",
    "\n",
    "print(rd.permutation(arr))"
   ]
  },
  {
   "cell_type": "code",
   "execution_count": 6,
   "id": "ac365501-a0ed-41e7-a2b2-6e2878bdf4d1",
   "metadata": {},
   "outputs": [
    {
     "name": "stdout",
     "output_type": "stream",
     "text": [
      "[[-0.64843475  1.26366401 -0.54808021]\n",
      " [ 2.67907586 -0.38080276  1.0860594 ]]\n"
     ]
    }
   ],
   "source": [
    "from numpy import random\n",
    "\n",
    "x = random.normal(loc=1, scale=2, size=(2, 3))\n",
    "\n",
    "print(x)"
   ]
  },
  {
   "cell_type": "code",
   "execution_count": 11,
   "id": "ed86a4ae-2f30-4681-b432-46a9ac5bcb2b",
   "metadata": {},
   "outputs": [
    {
     "name": "stdout",
     "output_type": "stream",
     "text": [
      "[3 6 3 2 3 8 5 3 5 6]\n"
     ]
    }
   ],
   "source": [
    "from numpy import random\n",
    "\n",
    "x = random.binomial(n=10, p=0.5, size=10)\n",
    "\n",
    "print(x)\n"
   ]
  }
 ],
 "metadata": {
  "kernelspec": {
   "display_name": "Python 3 (ipykernel)",
   "language": "python",
   "name": "python3"
  },
  "language_info": {
   "codemirror_mode": {
    "name": "ipython",
    "version": 3
   },
   "file_extension": ".py",
   "mimetype": "text/x-python",
   "name": "python",
   "nbconvert_exporter": "python",
   "pygments_lexer": "ipython3",
   "version": "3.11.5"
  }
 },
 "nbformat": 4,
 "nbformat_minor": 5
}
